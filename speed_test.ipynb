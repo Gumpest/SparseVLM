{
 "cells": [
  {
   "cell_type": "code",
   "execution_count": 13,
   "metadata": {},
   "outputs": [],
   "source": [
    "import torch\n",
    "from flash_attn import flash_attn_func\n",
    "\n",
    "b, l, n, d = , 512, 16, 64\n",
    "q = torch.randn(b, l, n, d).bfloat16().cuda()\n",
    "k = torch.randn_like(q)\n",
    "v = torch.randn_like(q)"
   ]
  },
  {
   "cell_type": "code",
   "execution_count": 25,
   "metadata": {},
   "outputs": [
    {
     "name": "stdout",
     "output_type": "stream",
     "text": [
      "3.02 s ± 33.5 ms per loop (mean ± std. dev. of 7 runs, 1 loop each)\n"
     ]
    }
   ],
   "source": [
    "%%timeit\n",
    "\n",
    "for idx in range(24):\n",
    "    b, l, n, d = 32, 512, 16, 64\n",
    "    q = torch.randn(b, l, n, d).bfloat16().cuda()\n",
    "    k = torch.randn_like(q)\n",
    "    v = torch.randn_like(q)\n",
    "    o = flash_attn_func(q, k, v)"
   ]
  },
  {
   "cell_type": "code",
   "execution_count": 15,
   "metadata": {},
   "outputs": [],
   "source": [
    "b, l, n, d = 8, 512, 16, 64\n",
    "q = torch.randn(b, l, n, d).bfloat16().cuda()\n",
    "k = torch.randn_like(q)\n",
    "v = torch.randn_like(q)"
   ]
  },
  {
   "cell_type": "code",
   "execution_count": 26,
   "metadata": {},
   "outputs": [
    {
     "name": "stdout",
     "output_type": "stream",
     "text": [
      "1.6 s ± 7.54 ms per loop (mean ± std. dev. of 7 runs, 1 loop each)\n"
     ]
    }
   ],
   "source": [
    "%%timeit\n",
    "\n",
    "for idx in range(0, 6):\n",
    "    b, l, n, d = 32, 512, 16, 64\n",
    "    q = torch.randn(b, l, n, d).bfloat16().cuda()\n",
    "    k = torch.randn_like(q)\n",
    "    v = torch.randn_like(q)\n",
    "    o = flash_attn_func(q, k, v)\n",
    "\n",
    "\n",
    "for idx in range(7, 12):\n",
    "    b, l, n, d = 32, int(512 * 0.7), 16, 64\n",
    "    q = torch.randn(b, l, n, d).bfloat16().cuda()\n",
    "    k = torch.randn_like(q)\n",
    "    v = torch.randn_like(q)\n",
    "    o = flash_attn_func(q, k, v)\n",
    "\n",
    "\n",
    "for idx in range(13, 18):\n",
    "    b, l, n, d = 32, int(512 * 0.7 * 0.7), 16, 64\n",
    "    q = torch.randn(b, l, n, d).bfloat16().cuda()\n",
    "    k = torch.randn_like(q)\n",
    "    v = torch.randn_like(q)\n",
    "    o = flash_attn_func(q, k, v)\n",
    "\n",
    "\n",
    "for idx in range(19, 24):\n",
    "    b, l, n, d = 32, int(512 * 0.7 * 0.7 * 0.7), 16, 64\n",
    "    q = torch.randn(b, l, n, d).bfloat16().cuda()\n",
    "    k = torch.randn_like(q)\n",
    "    v = torch.randn_like(q)\n",
    "    o = flash_attn_func(q, k, v)"
   ]
  }
 ],
 "metadata": {
  "kernelspec": {
   "display_name": "Python 3.9.2 64-bit",
   "language": "python",
   "name": "python3"
  },
  "language_info": {
   "codemirror_mode": {
    "name": "ipython",
    "version": 3
   },
   "file_extension": ".py",
   "mimetype": "text/x-python",
   "name": "python",
   "nbconvert_exporter": "python",
   "pygments_lexer": "ipython3",
   "version": "3.9.2"
  },
  "orig_nbformat": 4,
  "vscode": {
   "interpreter": {
    "hash": "31f2aee4e71d21fbe5cf8b01ff0e069b9275f58929596ceb00d14d90e3e16cd6"
   }
  }
 },
 "nbformat": 4,
 "nbformat_minor": 2
}
